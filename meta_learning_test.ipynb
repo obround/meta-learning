{
 "cells": [
  {
   "cell_type": "code",
   "execution_count": null,
   "metadata": {
    "collapsed": true
   },
   "outputs": [],
   "source": [
    "from torch import nn\n",
    "from torch.utils.data import DataLoader, random_split\n",
    "from torchmeta.toy import Sinusoid\n",
    "from torchmeta.utils.data import BatchMetaDataLoader\n",
    "from meta_learning_algorithms import MAML, Reptile, MetaSGD"
   ]
  },
  {
   "cell_type": "code",
   "execution_count": null,
   "outputs": [],
   "source": [
    "class SineModel(nn.Module):\n",
    "    def __init__(self):\n",
    "        super().__init__()\n",
    "        self.hidden1 = nn.Linear(1, 64)\n",
    "        self.hidden2 = nn.Linear(64, 32)\n",
    "        self.hidden3 = nn.Linear(32, 1)\n",
    "\n",
    "    def forward(self, x):\n",
    "        x = nn.functional.relu(self.hidden1(x))\n",
    "        x = nn.functional.relu(self.hidden2(x))\n",
    "        x = self.hidden3(x)\n",
    "        return x"
   ],
   "metadata": {
    "collapsed": false
   }
  },
  {
   "cell_type": "code",
   "execution_count": null,
   "outputs": [],
   "source": [
    "task_sets = Sinusoid(num_samples_per_task=20, num_tasks=10000)\n",
    "dataloader = BatchMetaDataLoader(task_sets, batch_size=16)\n",
    "maml_sine_model = SineModel()\n",
    "maml_pp_sine_model = SineModel()\n",
    "meta_sgd_sine_model = SineModel()\n",
    "reptile_sine_model = SineModel()"
   ],
   "metadata": {
    "collapsed": false
   }
  },
  {
   "cell_type": "code",
   "execution_count": null,
   "outputs": [],
   "source": [
    "support_query_dataset = []\n",
    "support_only_dataset = []\n",
    "\n",
    "for batch in dataloader:\n",
    "    effective_batch_size = batch[0].shape[0]\n",
    "    for i in range(effective_batch_size):\n",
    "        train_inputs, train_targets = batch[0][i].float(), batch[1][i].float()\n",
    "        x_support, y_support = train_inputs[::2], train_targets[::2]\n",
    "        x_query, y_query = train_inputs[1::2], train_targets[1::2]\n",
    "        support_query_dataset.append(\n",
    "            (\n",
    "                (x_support, y_support),\n",
    "                (x_query, y_query)\n",
    "            )\n",
    "        )\n",
    "        support_only_dataset.append((train_inputs, train_targets))"
   ],
   "metadata": {
    "collapsed": false
   }
  },
  {
   "cell_type": "code",
   "execution_count": null,
   "outputs": [],
   "source": [
    "maml = MAML(\n",
    "    model=maml_sine_model,\n",
    "    loss=nn.MSELoss(),\n",
    "    maml_plus_plus=False,\n",
    "    inner_lr=1e-2,\n",
    "    meta_lr=1e-1,\n",
    "    device=\"cpu\"\n",
    ")\n",
    "maml_plus_plus = MAML(\n",
    "    model=maml_pp_sine_model,\n",
    "    loss=nn.MSELoss(),\n",
    "    maml_plus_plus=True,\n",
    "    inner_lr=1e-2,\n",
    "    meta_lr=1e-1,\n",
    "    device=\"cpu\"\n",
    ")\n",
    "meta_sgd = MetaSGD(\n",
    "    model=meta_sgd_sine_model,\n",
    "    loss=nn.MSELoss(),\n",
    "    inner_lr=1e-3,\n",
    "    meta_lr=1e-3,\n",
    "    device=\"cpu\"\n",
    ")\n",
    "reptile = Reptile(\n",
    "    model=reptile_sine_model,\n",
    "    loss=nn.MSELoss(),\n",
    "    inner_lr=1e-1,\n",
    "    meta_lr=1e-1,\n",
    "    clipping=4.0,\n",
    "    device=\"cpu\"\n",
    ")"
   ],
   "metadata": {
    "collapsed": false
   }
  },
  {
   "cell_type": "code",
   "execution_count": null,
   "outputs": [],
   "source": [
    "sq_train_dataset, sq_val_dataset = random_split(support_query_dataset, [0.9, 0.1])\n",
    "sq_train_loader = DataLoader(sq_train_dataset, batch_size=4, shuffle=True, collate_fn=lambda b: b)\n",
    "sq_val_loader = DataLoader(sq_val_dataset, batch_size=4, shuffle=True, collate_fn=lambda b: b)\n",
    "\n",
    "so_train_dataset, so_val_dataset = random_split(support_only_dataset, [0.9, 0.1])\n",
    "so_train_loader = DataLoader(so_train_dataset, batch_size=4, shuffle=True, collate_fn=lambda b: b)\n",
    "so_val_loader = DataLoader(so_val_dataset, batch_size=4, shuffle=True, collate_fn=lambda b: b)"
   ],
   "metadata": {
    "collapsed": false
   }
  },
  {
   "cell_type": "code",
   "execution_count": null,
   "outputs": [],
   "source": [
    "maml.train(sq_train_loader, sq_val_loader, epochs=3)\n",
    "meta_sgd.train(sq_train_loader, sq_val_loader, epochs=3)\n",
    "reptile.train(so_train_loader, so_val_loader, epochs=3)"
   ],
   "metadata": {
    "collapsed": false
   }
  }
 ],
 "metadata": {
  "kernelspec": {
   "display_name": "Python 3",
   "language": "python",
   "name": "python3"
  },
  "language_info": {
   "codemirror_mode": {
    "name": "ipython",
    "version": 2
   },
   "file_extension": ".py",
   "mimetype": "text/x-python",
   "name": "python",
   "nbconvert_exporter": "python",
   "pygments_lexer": "ipython2",
   "version": "2.7.6"
  }
 },
 "nbformat": 4,
 "nbformat_minor": 0
}
